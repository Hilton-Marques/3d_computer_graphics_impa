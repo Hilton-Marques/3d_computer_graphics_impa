{
  "nbformat": 4,
  "nbformat_minor": 0,
  "metadata": {
    "colab": {
      "provenance": []
    },
    "kernelspec": {
      "name": "python3",
      "display_name": "Python 3"
    },
    "language_info": {
      "name": "python"
    },
    "accelerator": "GPU",
    "gpuClass": "standard"
  },
  "cells": [
    {
      "cell_type": "markdown",
      "metadata": {
        "id": "hlemH8x2kMUW"
      },
      "source": [
        "# 3D Graphics Systems | AI Graphics - Theory and Practice | IMPA 2023\n",
        "### Instructor: Luiz Velho\n",
        "### TA: Hallison Paz\n",
        "### Course info: https://lvelho.impa.br/i3d23/\n",
        "\n",
        "## Lab Class #2 - A demo of some functionalities of PyTorch3D"
      ]
    },
    {
      "cell_type": "code",
      "metadata": {
        "id": "su6N9qCvsNRN",
        "colab": {
          "base_uri": "https://localhost:8080/"
        },
        "outputId": "3e685f2b-5117-4a6e-db9b-d00b91f48432"
      },
      "source": [
        "import os\n",
        "import sys\n",
        "import torch\n",
        "need_pytorch3d=False\n",
        "try:\n",
        "    import pytorch3d\n",
        "except ModuleNotFoundError:\n",
        "    need_pytorch3d=True\n",
        "if need_pytorch3d:\n",
        "    if torch.__version__.startswith((\"1.13.\", \"2.0.\")) and sys.platform.startswith(\"linux\"):\n",
        "        # We try to install PyTorch3D via a released wheel.\n",
        "        pyt_version_str=torch.__version__.split(\"+\")[0].replace(\".\", \"\")\n",
        "        version_str=\"\".join([\n",
        "            f\"py3{sys.version_info.minor}_cu\",\n",
        "            torch.version.cuda.replace(\".\",\"\"),\n",
        "            f\"_pyt{pyt_version_str}\"\n",
        "        ])\n",
        "        !pip install fvcore iopath\n",
        "        !pip install --no-index --no-cache-dir pytorch3d -f https://dl.fbaipublicfiles.com/pytorch3d/packaging/wheels/{version_str}/download.html\n",
        "    else:\n",
        "        # We try to install PyTorch3D from source.\n",
        "        !pip install 'git+https://github.com/facebookresearch/pytorch3d.git@stable'"
      ],
      "execution_count": 3,
      "outputs": [
        {
          "output_type": "stream",
          "name": "stdout",
          "text": [
            "Looking in indexes: https://pypi.org/simple, https://us-python.pkg.dev/colab-wheels/public/simple/\n",
            "Collecting fvcore\n",
            "  Downloading fvcore-0.1.5.post20221221.tar.gz (50 kB)\n",
            "\u001b[2K     \u001b[90m━━━━━━━━━━━━━━━━━━━━━━━━━━━━━━━━━━━━━━━━\u001b[0m \u001b[32m50.2/50.2 kB\u001b[0m \u001b[31m4.8 MB/s\u001b[0m eta \u001b[36m0:00:00\u001b[0m\n",
            "\u001b[?25h  Preparing metadata (setup.py) ... \u001b[?25l\u001b[?25hdone\n",
            "Collecting iopath\n",
            "  Downloading iopath-0.1.10.tar.gz (42 kB)\n",
            "\u001b[2K     \u001b[90m━━━━━━━━━━━━━━━━━━━━━━━━━━━━━━━━━━━━━━━━\u001b[0m \u001b[32m42.2/42.2 kB\u001b[0m \u001b[31m6.2 MB/s\u001b[0m eta \u001b[36m0:00:00\u001b[0m\n",
            "\u001b[?25h  Preparing metadata (setup.py) ... \u001b[?25l\u001b[?25hdone\n",
            "Requirement already satisfied: numpy in /usr/local/lib/python3.10/dist-packages (from fvcore) (1.22.4)\n",
            "Collecting yacs>=0.1.6\n",
            "  Downloading yacs-0.1.8-py3-none-any.whl (14 kB)\n",
            "Requirement already satisfied: pyyaml>=5.1 in /usr/local/lib/python3.10/dist-packages (from fvcore) (6.0)\n",
            "Requirement already satisfied: tqdm in /usr/local/lib/python3.10/dist-packages (from fvcore) (4.65.0)\n",
            "Requirement already satisfied: termcolor>=1.1 in /usr/local/lib/python3.10/dist-packages (from fvcore) (2.3.0)\n",
            "Requirement already satisfied: Pillow in /usr/local/lib/python3.10/dist-packages (from fvcore) (8.4.0)\n",
            "Requirement already satisfied: tabulate in /usr/local/lib/python3.10/dist-packages (from fvcore) (0.8.10)\n",
            "Requirement already satisfied: typing_extensions in /usr/local/lib/python3.10/dist-packages (from iopath) (4.5.0)\n",
            "Collecting portalocker\n",
            "  Downloading portalocker-2.7.0-py2.py3-none-any.whl (15 kB)\n",
            "Building wheels for collected packages: fvcore, iopath\n",
            "  Building wheel for fvcore (setup.py) ... \u001b[?25l\u001b[?25hdone\n",
            "  Created wheel for fvcore: filename=fvcore-0.1.5.post20221221-py3-none-any.whl size=61429 sha256=a3d057e711a3057a63c765c5f30548fafb83b8288d7bff727df7776ea0a019a7\n",
            "  Stored in directory: /root/.cache/pip/wheels/01/c0/af/77c1cf53a1be9e42a52b48e5af2169d40ec2e89f7362489dd0\n",
            "  Building wheel for iopath (setup.py) ... \u001b[?25l\u001b[?25hdone\n",
            "  Created wheel for iopath: filename=iopath-0.1.10-py3-none-any.whl size=31547 sha256=62809800d04d0661c0dd1c7d4e1ae19e85a750b70fdb33e9bc2bb166f06a76ee\n",
            "  Stored in directory: /root/.cache/pip/wheels/9a/a3/b6/ac0fcd1b4ed5cfeb3db92e6a0e476cfd48ed0df92b91080c1d\n",
            "Successfully built fvcore iopath\n",
            "Installing collected packages: yacs, portalocker, iopath, fvcore\n",
            "Successfully installed fvcore-0.1.5.post20221221 iopath-0.1.10 portalocker-2.7.0 yacs-0.1.8\n",
            "Looking in links: https://dl.fbaipublicfiles.com/pytorch3d/packaging/wheels/py310_cu118_pyt200/download.html\n",
            "Collecting pytorch3d\n",
            "  Downloading https://dl.fbaipublicfiles.com/pytorch3d/packaging/wheels/py310_cu118_pyt200/pytorch3d-0.7.3-cp310-cp310-linux_x86_64.whl (20.1 MB)\n",
            "\u001b[2K     \u001b[90m━━━━━━━━━━━━━━━━━━━━━━━━━━━━━━━━━━━━━━━\u001b[0m \u001b[32m20.1/20.1 MB\u001b[0m \u001b[31m251.4 MB/s\u001b[0m eta \u001b[36m0:00:00\u001b[0m\n",
            "\u001b[?25hRequirement already satisfied: fvcore in /usr/local/lib/python3.10/dist-packages (from pytorch3d) (0.1.5.post20221221)\n",
            "Requirement already satisfied: iopath in /usr/local/lib/python3.10/dist-packages (from pytorch3d) (0.1.10)\n",
            "Requirement already satisfied: tabulate in /usr/local/lib/python3.10/dist-packages (from fvcore->pytorch3d) (0.8.10)\n",
            "Requirement already satisfied: pyyaml>=5.1 in /usr/local/lib/python3.10/dist-packages (from fvcore->pytorch3d) (6.0)\n",
            "Requirement already satisfied: numpy in /usr/local/lib/python3.10/dist-packages (from fvcore->pytorch3d) (1.22.4)\n",
            "Requirement already satisfied: Pillow in /usr/local/lib/python3.10/dist-packages (from fvcore->pytorch3d) (8.4.0)\n",
            "Requirement already satisfied: termcolor>=1.1 in /usr/local/lib/python3.10/dist-packages (from fvcore->pytorch3d) (2.3.0)\n",
            "Requirement already satisfied: tqdm in /usr/local/lib/python3.10/dist-packages (from fvcore->pytorch3d) (4.65.0)\n",
            "Requirement already satisfied: yacs>=0.1.6 in /usr/local/lib/python3.10/dist-packages (from fvcore->pytorch3d) (0.1.8)\n",
            "Requirement already satisfied: portalocker in /usr/local/lib/python3.10/dist-packages (from iopath->pytorch3d) (2.7.0)\n",
            "Requirement already satisfied: typing-extensions in /usr/local/lib/python3.10/dist-packages (from iopath->pytorch3d) (4.5.0)\n",
            "Installing collected packages: pytorch3d\n",
            "Successfully installed pytorch3d-0.7.3\n"
          ]
        }
      ]
    },
    {
      "cell_type": "markdown",
      "metadata": {
        "id": "VgKLKDssk4lp"
      },
      "source": [
        "## Data Structures"
      ]
    },
    {
      "cell_type": "code",
      "metadata": {
        "id": "NwOeD42hsqN-"
      },
      "source": [
        "from pytorch3d.structures import Meshes"
      ],
      "execution_count": 4,
      "outputs": []
    },
    {
      "cell_type": "code",
      "metadata": {
        "id": "b9K0w2LZtzVy"
      },
      "source": [
        "# Setup\n",
        "if torch.cuda.is_available():\n",
        "    device = torch.device(\"cuda:0\")\n",
        "    torch.cuda.set_device(device)\n",
        "else:\n",
        "    device = torch.device(\"cpu\")"
      ],
      "execution_count": 5,
      "outputs": []
    },
    {
      "cell_type": "code",
      "metadata": {
        "id": "v_BYq8QI1UvA",
        "colab": {
          "base_uri": "https://localhost:8080/"
        },
        "outputId": "13a6652e-8f16-406e-aa4d-f6c121243050"
      },
      "source": [
        "!wget -P . https://raw.githubusercontent.com/hallpaz/3dsystems20/master/extensions_utils/cube.py"
      ],
      "execution_count": 6,
      "outputs": [
        {
          "output_type": "stream",
          "name": "stdout",
          "text": [
            "--2023-05-02 17:59:48--  https://raw.githubusercontent.com/hallpaz/3dsystems20/master/extensions_utils/cube.py\n",
            "Resolving raw.githubusercontent.com (raw.githubusercontent.com)... 185.199.108.133, 185.199.109.133, 185.199.110.133, ...\n",
            "Connecting to raw.githubusercontent.com (raw.githubusercontent.com)|185.199.108.133|:443... connected.\n",
            "HTTP request sent, awaiting response... 200 OK\n",
            "Length: 1630 (1.6K) [text/plain]\n",
            "Saving to: ‘./cube.py’\n",
            "\n",
            "cube.py             100%[===================>]   1.59K  --.-KB/s    in 0s      \n",
            "\n",
            "2023-05-02 17:59:48 (29.1 MB/s) - ‘./cube.py’ saved [1630/1630]\n",
            "\n"
          ]
        }
      ]
    },
    {
      "cell_type": "code",
      "metadata": {
        "id": "N17f8dtstYhJ"
      },
      "source": [
        "# Vertex coordinates for a level 0 cube.\n",
        "_cube_verts0 = [\n",
        "    [-0.50, 0.50, 0.50],\n",
        "    [-0.50, -0.50, 0.50],\n",
        "    [0.50, -0.50, 0.50],\n",
        "    [0.50, 0.50, 0.50],\n",
        "\n",
        "    [-0.50, 0.50, -0.50],\n",
        "    [-0.50, -0.50, -0.50],\n",
        "    [0.50, -0.50, -0.50],\n",
        "    [0.50, 0.50, -0.50]\n",
        "]\n",
        "\n",
        "\n",
        "# Faces for level 0 cube\n",
        "_cube_faces0 = [\n",
        "    [0, 1, 2],\n",
        "    [2, 3, 0],\n",
        "    [7, 6, 5],\n",
        "    [4, 7, 5],\n",
        "    [6, 3, 2],\n",
        "    [3, 6, 7],\n",
        "    [4, 5, 0],\n",
        "    [0, 5, 1],\n",
        "    [3, 4, 0],\n",
        "    [4, 3, 7],\n",
        "    [2, 1, 5],\n",
        "    [5, 6, 2],\n",
        "]"
      ],
      "execution_count": 7,
      "outputs": []
    },
    {
      "cell_type": "code",
      "metadata": {
        "id": "OGO_5eFdzqZw"
      },
      "source": [
        "from cube import cube"
      ],
      "execution_count": 8,
      "outputs": []
    },
    {
      "cell_type": "code",
      "metadata": {
        "id": "UUAmdlQXz2I4"
      },
      "source": [
        "refinedcube = cube(1, device=device)"
      ],
      "execution_count": 9,
      "outputs": []
    },
    {
      "cell_type": "code",
      "metadata": {
        "id": "OvJE3EXGs0SI"
      },
      "source": [
        "verts_list = [torch.tensor(_cube_verts0, device=device), refinedcube.verts_list()[0]]\n",
        "faces_list = [torch.tensor(_cube_faces0, dtype=torch.int64, device=device), refinedcube.faces_list()[0]]\n",
        "\n",
        "mesh_batch = Meshes(verts=verts_list, faces=faces_list)"
      ],
      "execution_count": 10,
      "outputs": []
    },
    {
      "cell_type": "markdown",
      "metadata": {
        "id": "Yc8E6hsKub0r"
      },
      "source": [
        "## Packed and Padded Tensors"
      ]
    },
    {
      "cell_type": "code",
      "metadata": {
        "id": "kxkYo-2QucJn"
      },
      "source": [
        "# packed representation\n",
        "verts_packed = mesh_batch.verts_packed()\n",
        "\n",
        "# auxiliary tensors\n",
        "mesh_to_vert_idx = mesh_batch.mesh_to_verts_packed_first_idx()\n",
        "vert_to_mesh_idx = mesh_batch.verts_packed_to_mesh_idx()\n",
        "\n",
        "# edges\n",
        "edges = mesh_batch.edges_packed()\n",
        "\n",
        "# face normals\n",
        "face_normals = mesh_batch.faces_normals_packed()"
      ],
      "execution_count": 11,
      "outputs": []
    },
    {
      "cell_type": "code",
      "metadata": {
        "id": "KbW2CzveycNV",
        "colab": {
          "base_uri": "https://localhost:8080/"
        },
        "outputId": "88520dba-1291-44fb-fdc7-a86c6228b745"
      },
      "source": [
        "verts_packed"
      ],
      "execution_count": 12,
      "outputs": [
        {
          "output_type": "execute_result",
          "data": {
            "text/plain": [
              "tensor([[-0.5000,  0.5000,  0.5000],\n",
              "        [-0.5000, -0.5000,  0.5000],\n",
              "        [ 0.5000, -0.5000,  0.5000],\n",
              "        [ 0.5000,  0.5000,  0.5000],\n",
              "        [-0.5000,  0.5000, -0.5000],\n",
              "        [-0.5000, -0.5000, -0.5000],\n",
              "        [ 0.5000, -0.5000, -0.5000],\n",
              "        [ 0.5000,  0.5000, -0.5000],\n",
              "        [-0.5000,  0.5000,  0.5000],\n",
              "        [-0.5000, -0.5000,  0.5000],\n",
              "        [ 0.5000, -0.5000,  0.5000],\n",
              "        [ 0.5000,  0.5000,  0.5000],\n",
              "        [-0.5000,  0.5000, -0.5000],\n",
              "        [-0.5000, -0.5000, -0.5000],\n",
              "        [ 0.5000, -0.5000, -0.5000],\n",
              "        [ 0.5000,  0.5000, -0.5000],\n",
              "        [-0.5000,  0.0000,  0.5000],\n",
              "        [ 0.0000,  0.0000,  0.5000],\n",
              "        [ 0.0000,  0.5000,  0.5000],\n",
              "        [-0.5000,  0.5000,  0.0000],\n",
              "        [-0.5000,  0.0000,  0.0000],\n",
              "        [ 0.0000, -0.5000,  0.5000],\n",
              "        [-0.5000, -0.5000,  0.0000],\n",
              "        [ 0.5000,  0.0000,  0.5000],\n",
              "        [ 0.0000, -0.5000,  0.0000],\n",
              "        [ 0.5000, -0.5000,  0.0000],\n",
              "        [ 0.0000,  0.5000,  0.0000],\n",
              "        [ 0.5000,  0.0000,  0.0000],\n",
              "        [ 0.5000,  0.5000,  0.0000],\n",
              "        [-0.5000,  0.0000, -0.5000],\n",
              "        [ 0.0000,  0.5000, -0.5000],\n",
              "        [ 0.0000, -0.5000, -0.5000],\n",
              "        [ 0.0000,  0.0000, -0.5000],\n",
              "        [ 0.5000,  0.0000, -0.5000]], device='cuda:0')"
            ]
          },
          "metadata": {},
          "execution_count": 12
        }
      ]
    },
    {
      "cell_type": "code",
      "metadata": {
        "id": "X9Ip61bSymPp",
        "colab": {
          "base_uri": "https://localhost:8080/"
        },
        "outputId": "74a8c5d8-4198-4232-c50a-d82616da9585"
      },
      "source": [
        "mesh_batch.verts_padded()"
      ],
      "execution_count": 13,
      "outputs": [
        {
          "output_type": "execute_result",
          "data": {
            "text/plain": [
              "tensor([[[-0.5000,  0.5000,  0.5000],\n",
              "         [-0.5000, -0.5000,  0.5000],\n",
              "         [ 0.5000, -0.5000,  0.5000],\n",
              "         [ 0.5000,  0.5000,  0.5000],\n",
              "         [-0.5000,  0.5000, -0.5000],\n",
              "         [-0.5000, -0.5000, -0.5000],\n",
              "         [ 0.5000, -0.5000, -0.5000],\n",
              "         [ 0.5000,  0.5000, -0.5000],\n",
              "         [ 0.0000,  0.0000,  0.0000],\n",
              "         [ 0.0000,  0.0000,  0.0000],\n",
              "         [ 0.0000,  0.0000,  0.0000],\n",
              "         [ 0.0000,  0.0000,  0.0000],\n",
              "         [ 0.0000,  0.0000,  0.0000],\n",
              "         [ 0.0000,  0.0000,  0.0000],\n",
              "         [ 0.0000,  0.0000,  0.0000],\n",
              "         [ 0.0000,  0.0000,  0.0000],\n",
              "         [ 0.0000,  0.0000,  0.0000],\n",
              "         [ 0.0000,  0.0000,  0.0000],\n",
              "         [ 0.0000,  0.0000,  0.0000],\n",
              "         [ 0.0000,  0.0000,  0.0000],\n",
              "         [ 0.0000,  0.0000,  0.0000],\n",
              "         [ 0.0000,  0.0000,  0.0000],\n",
              "         [ 0.0000,  0.0000,  0.0000],\n",
              "         [ 0.0000,  0.0000,  0.0000],\n",
              "         [ 0.0000,  0.0000,  0.0000],\n",
              "         [ 0.0000,  0.0000,  0.0000]],\n",
              "\n",
              "        [[-0.5000,  0.5000,  0.5000],\n",
              "         [-0.5000, -0.5000,  0.5000],\n",
              "         [ 0.5000, -0.5000,  0.5000],\n",
              "         [ 0.5000,  0.5000,  0.5000],\n",
              "         [-0.5000,  0.5000, -0.5000],\n",
              "         [-0.5000, -0.5000, -0.5000],\n",
              "         [ 0.5000, -0.5000, -0.5000],\n",
              "         [ 0.5000,  0.5000, -0.5000],\n",
              "         [-0.5000,  0.0000,  0.5000],\n",
              "         [ 0.0000,  0.0000,  0.5000],\n",
              "         [ 0.0000,  0.5000,  0.5000],\n",
              "         [-0.5000,  0.5000,  0.0000],\n",
              "         [-0.5000,  0.0000,  0.0000],\n",
              "         [ 0.0000, -0.5000,  0.5000],\n",
              "         [-0.5000, -0.5000,  0.0000],\n",
              "         [ 0.5000,  0.0000,  0.5000],\n",
              "         [ 0.0000, -0.5000,  0.0000],\n",
              "         [ 0.5000, -0.5000,  0.0000],\n",
              "         [ 0.0000,  0.5000,  0.0000],\n",
              "         [ 0.5000,  0.0000,  0.0000],\n",
              "         [ 0.5000,  0.5000,  0.0000],\n",
              "         [-0.5000,  0.0000, -0.5000],\n",
              "         [ 0.0000,  0.5000, -0.5000],\n",
              "         [ 0.0000, -0.5000, -0.5000],\n",
              "         [ 0.0000,  0.0000, -0.5000],\n",
              "         [ 0.5000,  0.0000, -0.5000]]], device='cuda:0')"
            ]
          },
          "metadata": {},
          "execution_count": 13
        }
      ]
    },
    {
      "cell_type": "markdown",
      "metadata": {
        "id": "0PqchT7-ujIS"
      },
      "source": [
        "## Input / Output"
      ]
    },
    {
      "cell_type": "code",
      "metadata": {
        "id": "2jW2lecO1Gxb",
        "colab": {
          "base_uri": "https://localhost:8080/"
        },
        "outputId": "b276294a-bea7-4e02-af84-0a145d6cd92f"
      },
      "source": [
        "!mkdir -p data\n",
        "!wget -P data https://dl.fbaipublicfiles.com/pytorch3d/data/cow_mesh/cow.obj\n",
        "!wget -P data https://dl.fbaipublicfiles.com/pytorch3d/data/cow_mesh/cow.mtl\n",
        "!wget -P data https://dl.fbaipublicfiles.com/pytorch3d/data/cow_mesh/cow_texture.png"
      ],
      "execution_count": 14,
      "outputs": [
        {
          "output_type": "stream",
          "name": "stdout",
          "text": [
            "--2023-05-02 17:59:53--  https://dl.fbaipublicfiles.com/pytorch3d/data/cow_mesh/cow.obj\n",
            "Resolving dl.fbaipublicfiles.com (dl.fbaipublicfiles.com)... 52.84.251.15, 52.84.251.106, 52.84.251.27, ...\n",
            "Connecting to dl.fbaipublicfiles.com (dl.fbaipublicfiles.com)|52.84.251.15|:443... connected.\n",
            "HTTP request sent, awaiting response... 200 OK\n",
            "Length: 330659 (323K) [text/plain]\n",
            "Saving to: ‘data/cow.obj’\n",
            "\n",
            "\rcow.obj               0%[                    ]       0  --.-KB/s               \rcow.obj             100%[===================>] 322.91K  --.-KB/s    in 0.006s  \n",
            "\n",
            "2023-05-02 17:59:53 (54.6 MB/s) - ‘data/cow.obj’ saved [330659/330659]\n",
            "\n",
            "--2023-05-02 17:59:53--  https://dl.fbaipublicfiles.com/pytorch3d/data/cow_mesh/cow.mtl\n",
            "Resolving dl.fbaipublicfiles.com (dl.fbaipublicfiles.com)... 52.84.251.15, 52.84.251.106, 52.84.251.27, ...\n",
            "Connecting to dl.fbaipublicfiles.com (dl.fbaipublicfiles.com)|52.84.251.15|:443... connected.\n",
            "HTTP request sent, awaiting response... 200 OK\n",
            "Length: 155 [text/plain]\n",
            "Saving to: ‘data/cow.mtl’\n",
            "\n",
            "cow.mtl             100%[===================>]     155  --.-KB/s    in 0s      \n",
            "\n",
            "2023-05-02 17:59:54 (32.3 MB/s) - ‘data/cow.mtl’ saved [155/155]\n",
            "\n",
            "--2023-05-02 17:59:54--  https://dl.fbaipublicfiles.com/pytorch3d/data/cow_mesh/cow_texture.png\n",
            "Resolving dl.fbaipublicfiles.com (dl.fbaipublicfiles.com)... 52.84.251.15, 52.84.251.106, 52.84.251.27, ...\n",
            "Connecting to dl.fbaipublicfiles.com (dl.fbaipublicfiles.com)|52.84.251.15|:443... connected.\n",
            "HTTP request sent, awaiting response... 200 OK\n",
            "Length: 78699 (77K) [image/png]\n",
            "Saving to: ‘data/cow_texture.png’\n",
            "\n",
            "cow_texture.png     100%[===================>]  76.85K   240KB/s    in 0.3s    \n",
            "\n",
            "2023-05-02 17:59:55 (240 KB/s) - ‘data/cow_texture.png’ saved [78699/78699]\n",
            "\n"
          ]
        }
      ]
    },
    {
      "cell_type": "code",
      "metadata": {
        "id": "8lkYymVnuhfp"
      },
      "source": [
        "from pytorch3d.io import load_obj"
      ],
      "execution_count": 15,
      "outputs": []
    },
    {
      "cell_type": "code",
      "metadata": {
        "id": "63sgoCwAuiHG"
      },
      "source": [
        "obj_file = \"data/cow.obj\"\n",
        "verts, faces, aux = load_obj(obj_file)\n",
        "\n",
        "faces = faces.verts_idx\n",
        "normals = aux.normals\n",
        "textures = aux.verts_uvs\n",
        "materials = aux.material_colors\n",
        "tex_maps = aux.texture_images"
      ],
      "execution_count": 16,
      "outputs": []
    },
    {
      "cell_type": "code",
      "metadata": {
        "id": "GCU7cosX1-oe",
        "colab": {
          "base_uri": "https://localhost:8080/"
        },
        "outputId": "07a91dac-0af3-4b18-c041-af5f77cff987"
      },
      "source": [
        "tex_maps"
      ],
      "execution_count": 17,
      "outputs": [
        {
          "output_type": "execute_result",
          "data": {
            "text/plain": [
              "{'material_1': tensor([[[1.0000, 0.9333, 0.9020],\n",
              "          [1.0000, 0.9333, 0.9020],\n",
              "          [1.0000, 0.9333, 0.9020],\n",
              "          ...,\n",
              "          [1.0000, 0.9333, 0.9020],\n",
              "          [1.0000, 0.9333, 0.9020],\n",
              "          [1.0000, 0.9333, 0.9020]],\n",
              " \n",
              "         [[1.0000, 0.9333, 0.9020],\n",
              "          [1.0000, 0.9333, 0.9020],\n",
              "          [1.0000, 0.9333, 0.9020],\n",
              "          ...,\n",
              "          [1.0000, 0.9333, 0.9020],\n",
              "          [1.0000, 0.9333, 0.9020],\n",
              "          [1.0000, 0.9333, 0.9020]],\n",
              " \n",
              "         [[1.0000, 0.9333, 0.9020],\n",
              "          [1.0000, 0.9333, 0.9020],\n",
              "          [1.0000, 0.9333, 0.9020],\n",
              "          ...,\n",
              "          [1.0000, 0.9333, 0.9020],\n",
              "          [1.0000, 0.9333, 0.9020],\n",
              "          [1.0000, 0.9333, 0.9020]],\n",
              " \n",
              "         ...,\n",
              " \n",
              "         [[1.0000, 0.9333, 0.9020],\n",
              "          [1.0000, 0.9333, 0.9020],\n",
              "          [1.0000, 0.9333, 0.9020],\n",
              "          ...,\n",
              "          [1.0000, 0.9333, 0.9020],\n",
              "          [1.0000, 0.9333, 0.9020],\n",
              "          [1.0000, 0.9333, 0.9020]],\n",
              " \n",
              "         [[1.0000, 0.9333, 0.9020],\n",
              "          [1.0000, 0.9333, 0.9020],\n",
              "          [1.0000, 0.9333, 0.9020],\n",
              "          ...,\n",
              "          [1.0000, 0.9333, 0.9020],\n",
              "          [1.0000, 0.9333, 0.9020],\n",
              "          [1.0000, 0.9333, 0.9020]],\n",
              " \n",
              "         [[1.0000, 0.9333, 0.9020],\n",
              "          [1.0000, 0.9333, 0.9020],\n",
              "          [1.0000, 0.9333, 0.9020],\n",
              "          ...,\n",
              "          [1.0000, 0.9333, 0.9020],\n",
              "          [1.0000, 0.9333, 0.9020],\n",
              "          [1.0000, 0.9333, 0.9020]]])}"
            ]
          },
          "metadata": {},
          "execution_count": 17
        }
      ]
    },
    {
      "cell_type": "code",
      "metadata": {
        "id": "cRgsokFO2S1r"
      },
      "source": [
        "import matplotlib.pyplot as plt\n",
        "from pytorch3d.renderer import Textures"
      ],
      "execution_count": 18,
      "outputs": []
    },
    {
      "cell_type": "code",
      "metadata": {
        "id": "0KT3sU9X2Yom",
        "colab": {
          "base_uri": "https://localhost:8080/",
          "height": 452
        },
        "outputId": "31f92b78-521c-4f6b-e269-43907c7f2714"
      },
      "source": [
        "plt.imshow(tex_maps['material_1'])"
      ],
      "execution_count": 19,
      "outputs": [
        {
          "output_type": "execute_result",
          "data": {
            "text/plain": [
              "<matplotlib.image.AxesImage at 0x7f1d01fa9f00>"
            ]
          },
          "metadata": {},
          "execution_count": 19
        },
        {
          "output_type": "display_data",
          "data": {
            "text/plain": [
              "<Figure size 640x480 with 1 Axes>"
            ],
            "image/png": "[encoded data removed]"
          },
          "metadata": {}
        }
      ]
    },
    {
      "cell_type": "markdown",
      "metadata": {
        "id": "ADvAzZCAurrz"
      },
      "source": [
        "# 3D Transforms"
      ]
    },
    {
      "cell_type": "code",
      "metadata": {
        "id": "IlS5FCuMusSy"
      },
      "source": [
        "from pytorch3d.transforms import Transform3d, Rotate, Translate"
      ],
      "execution_count": 20,
      "outputs": []
    },
    {
      "cell_type": "code",
      "metadata": {
        "id": "S7bTRvhvuxD6"
      },
      "source": [
        "# example 1\n",
        "T = Translate(torch.FloatTensor([[1.0, 2.0, 3.0]]), device=device)\n",
        "R = Rotate(torch.FloatTensor([[0, 1, 0], [0, 0, 1], [1, 0, 0]]), device=device)\n",
        "RT = Transform3d(device=device).compose(R, T)"
      ],
      "execution_count": 21,
      "outputs": []
    },
    {
      "cell_type": "code",
      "metadata": {
        "id": "NRJ8x-V49qjX",
        "colab": {
          "base_uri": "https://localhost:8080/"
        },
        "outputId": "82d81c7f-bfbd-46b0-9dfc-b6ffbb8f89ec"
      },
      "source": [
        "RT.get_matrix()"
      ],
      "execution_count": 22,
      "outputs": [
        {
          "output_type": "execute_result",
          "data": {
            "text/plain": [
              "tensor([[[0., 1., 0., 0.],\n",
              "         [0., 0., 1., 0.],\n",
              "         [1., 0., 0., 0.],\n",
              "         [1., 2., 3., 1.]]], device='cuda:0')"
            ]
          },
          "metadata": {},
          "execution_count": 22
        }
      ]
    },
    {
      "cell_type": "code",
      "metadata": {
        "id": "YquyzbfEu2TY",
        "colab": {
          "base_uri": "https://localhost:8080/"
        },
        "outputId": "dc5f28eb-be97-4a7f-ec3e-ce7fdfc4183c"
      },
      "source": [
        "# applying Transform\n",
        "verts_transformed = RT.transform_points(mesh_batch.verts_packed())\n",
        "verts_transformed"
      ],
      "execution_count": 23,
      "outputs": [
        {
          "output_type": "execute_result",
          "data": {
            "text/plain": [
              "tensor([[1.5000, 1.5000, 3.5000],\n",
              "        [1.5000, 1.5000, 2.5000],\n",
              "        [1.5000, 2.5000, 2.5000],\n",
              "        [1.5000, 2.5000, 3.5000],\n",
              "        [0.5000, 1.5000, 3.5000],\n",
              "        [0.5000, 1.5000, 2.5000],\n",
              "        [0.5000, 2.5000, 2.5000],\n",
              "        [0.5000, 2.5000, 3.5000],\n",
              "        [1.5000, 1.5000, 3.5000],\n",
              "        [1.5000, 1.5000, 2.5000],\n",
              "        [1.5000, 2.5000, 2.5000],\n",
              "        [1.5000, 2.5000, 3.5000],\n",
              "        [0.5000, 1.5000, 3.5000],\n",
              "        [0.5000, 1.5000, 2.5000],\n",
              "        [0.5000, 2.5000, 2.5000],\n",
              "        [0.5000, 2.5000, 3.5000],\n",
              "        [1.5000, 1.5000, 3.0000],\n",
              "        [1.5000, 2.0000, 3.0000],\n",
              "        [1.5000, 2.0000, 3.5000],\n",
              "        [1.0000, 1.5000, 3.5000],\n",
              "        [1.0000, 1.5000, 3.0000],\n",
              "        [1.5000, 2.0000, 2.5000],\n",
              "        [1.0000, 1.5000, 2.5000],\n",
              "        [1.5000, 2.5000, 3.0000],\n",
              "        [1.0000, 2.0000, 2.5000],\n",
              "        [1.0000, 2.5000, 2.5000],\n",
              "        [1.0000, 2.0000, 3.5000],\n",
              "        [1.0000, 2.5000, 3.0000],\n",
              "        [1.0000, 2.5000, 3.5000],\n",
              "        [0.5000, 1.5000, 3.0000],\n",
              "        [0.5000, 2.0000, 3.5000],\n",
              "        [0.5000, 2.0000, 2.5000],\n",
              "        [0.5000, 2.0000, 3.0000],\n",
              "        [0.5000, 2.5000, 3.0000]], device='cuda:0')"
            ]
          },
          "metadata": {},
          "execution_count": 23
        }
      ]
    },
    {
      "cell_type": "markdown",
      "metadata": {
        "id": "Quww6Vt8vGLD"
      },
      "source": [
        "# Renderer"
      ]
    },
    {
      "cell_type": "code",
      "metadata": {
        "id": "_pz3Zq40vTZj"
      },
      "source": [
        "from pytorch3d.renderer import (\n",
        "    OpenGLPerspectiveCameras, look_at_view_transform,\n",
        "    RasterizationSettings, BlendParams,\n",
        "    MeshRenderer, MeshRasterizer, HardPhongShader,\n",
        "    Textures\n",
        ")"
      ],
      "execution_count": 24,
      "outputs": []
    },
    {
      "cell_type": "code",
      "metadata": {
        "id": "cbsodBqUu5PA"
      },
      "source": [
        "R, T = look_at_view_transform(2.7, 10, 20)\n",
        "cameras = OpenGLPerspectiveCameras(device=device, R=R, T=T)\n",
        "raster_settings = RasterizationSettings(\n",
        "    image_size=512,\n",
        "    blur_radius=0.0,\n",
        "    faces_per_pixel=1, # sets the value of K\n",
        ")\n",
        "\n",
        "renderer = MeshRenderer(\n",
        "    rasterizer=MeshRasterizer(cameras=cameras, raster_settings=raster_settings),\n",
        "    shader=HardPhongShader(device=device, cameras=cameras)\n",
        ")"
      ],
      "execution_count": 25,
      "outputs": []
    },
    {
      "cell_type": "code",
      "metadata": {
        "id": "EgzvvZqQ_5DX"
      },
      "source": [
        "# Creating a texture for the mesh\n",
        "white_tex = torch.ones_like(mesh_batch.verts_padded())\n",
        "textures = Textures(verts_rgb=white_tex.to(device))\n",
        "mesh_batch.textures = textures"
      ],
      "execution_count": 26,
      "outputs": []
    },
    {
      "cell_type": "code",
      "metadata": {
        "id": "oLA4K9_b_TJ0"
      },
      "source": [
        "images = renderer(mesh_batch, cameras=cameras)"
      ],
      "execution_count": 27,
      "outputs": []
    },
    {
      "cell_type": "code",
      "metadata": {
        "id": "5jux5okrAy2g"
      },
      "source": [
        "def plot_side_by_side(images):\n",
        "  n = images.shape[0]\n",
        "  fig = plt.figure(figsize=(10, 10))\n",
        "  for i in range(n):\n",
        "    fig.add_subplot(1, n, i+1)\n",
        "    plt.imshow(images[i, ..., :3].cpu().numpy())\n",
        "    # plt.grid(\"off\");\n",
        "    # plt.axis(\"off\");"
      ],
      "execution_count": 28,
      "outputs": []
    },
    {
      "cell_type": "code",
      "metadata": {
        "id": "cymbG-kzl1to",
        "colab": {
          "base_uri": "https://localhost:8080/",
          "height": 418
        },
        "outputId": "1d6cf053-7431-41ea-dc8f-92887603c815"
      },
      "source": [
        "plot_side_by_side(images)"
      ],
      "execution_count": 29,
      "outputs": [
        {
          "output_type": "display_data",
          "data": {
            "text/plain": [
              "<Figure size 1000x1000 with 2 Axes>"
            ],
            "image/png": "[encoded data removed]"
          },
          "metadata": {}
        }
      ]
    },
    {
      "cell_type": "code",
      "metadata": {
        "id": "TG18uXGfoAl_"
      },
      "source": [
        "from math import radians, cos, sin"
      ],
      "execution_count": 30,
      "outputs": []
    },
    {
      "cell_type": "code",
      "metadata": {
        "id": "YpHTpbHFBNzk"
      },
      "source": [
        "cos45 = cos(radians(45))\n",
        "sin45 = sin(radians(45))\n",
        "# applying a transform to the first mesh\n",
        "SR = Transform3d(device=device).scale(1.0, 1.5, 1.0).rotate(\n",
        "      R=torch.tensor([[cos45, -sin45, 0.0], [sin45, cos45, 0.0], [0.0, 0.0, 1.0]])\n",
        "    )\n",
        "verts0 = mesh_batch.verts_list()[0]\n",
        "verts0 = SR.transform_points(verts0)\n",
        "verts1 = mesh_batch.verts_list()[1]\n",
        "mesh_batch2 = Meshes(verts=[verts0, verts1], faces=mesh_batch.faces_list(), textures=mesh_batch.textures)"
      ],
      "execution_count": 31,
      "outputs": []
    },
    {
      "cell_type": "code",
      "metadata": {
        "id": "iKBrPN7FmI5n",
        "colab": {
          "base_uri": "https://localhost:8080/",
          "height": 418
        },
        "outputId": "be01fca4-559d-491c-c6e5-4c6189760616"
      },
      "source": [
        "plot_side_by_side(renderer(mesh_batch2))"
      ],
      "execution_count": 32,
      "outputs": [
        {
          "output_type": "display_data",
          "data": {
            "text/plain": [
              "<Figure size 1000x1000 with 2 Axes>"
            ],
            "image/png": "[encoded data removed]"
          },
          "metadata": {}
        }
      ]
    },
    {
      "cell_type": "markdown",
      "source": [
        "## Challenge\n",
        "\n",
        "1. Change the texture of the mesh_batch so that each of the cubes is colored differently.\n",
        "\n",
        "2. Experiment different transforms and compositions in terms of rotation, translation and scaling."
      ],
      "metadata": {
        "id": "DeLykZx4Wk6L"
      }
    },
    {
      "cell_type": "code",
      "source": [
        "# write your code below this cell\n",
        "new_color = torch.tensor([1.0, 0.0, 0.0], dtype=torch.float)\n",
        "new_tex = torch.ones_like(mesh_batch.verts_padded())\n",
        "new_tex[0,mesh_batch.verts_list()[0].shape[0]:,:] = new_color\n",
        "new_tex[1,:,:] = new_color\n",
        "textures_red = Textures(verts_rgb=new_tex.to(device))\n",
        "\n",
        "cos30 = cos(radians(30))\n",
        "sin30 = sin(radians(30))\n",
        "SR = Transform3d(device=device).scale(1.0, 1.5, 1.0).rotate(\n",
        "      R=torch.tensor([[cos30, -sin30, 0.0], [cos30, sin30, 0.0], [0.0, 0.0, 1.0]])\n",
        "    )\n",
        "\n",
        "verts1 = mesh_batch.verts_list()[1]\n",
        "new_vertices = SR.transform_points(verts1)\n",
        "mesh_batch_2 = Meshes(verts=[mesh_batch.verts_list()[0], new_vertices], faces=mesh_batch.faces_list(), textures=textures_red)\n",
        "#mesh_batch2 = Meshes(verts=[verts0, verts1], faces=mesh_batch.faces_list(), textures=mesh_batch.textures)\n",
        "\n",
        "images = renderer(mesh_batch_2, cameras=cameras)\n",
        "\n",
        "plot_side_by_side(images)"
      ],
      "metadata": {
        "id": "A01RbUsFVJoZ",
        "colab": {
          "base_uri": "https://localhost:8080/",
          "height": 418
        },
        "outputId": "cbae54d3-b58a-4ee1-a53c-a2ee033b34b7"
      },
      "execution_count": 33,
      "outputs": [
        {
          "output_type": "display_data",
          "data": {
            "text/plain": [
              "<Figure size 1000x1000 with 2 Axes>"
            ],
            "image/png": "[encoded data removed]"
          },
          "metadata": {}
        }
      ]
    },
    {
      "cell_type": "markdown",
      "source": [
        "## Implicit Modeling and *cubify*"
      ],
      "metadata": {
        "id": "cTYq_fwz88ut"
      }
    },
    {
      "cell_type": "code",
      "source": [
        "from pytorch3d.ops import cubify\n",
        "from pytorch3d.io import IO"
      ],
      "metadata": {
        "id": "cvzZGtki9FrY"
      },
      "execution_count": 34,
      "outputs": []
    },
    {
      "cell_type": "code",
      "source": [
        "x_axis = [-1, 1]\n",
        "y_axis = [-1, 1]\n",
        "z_axis = [-1, 1]\n",
        "depth = 64\n",
        "height = 64\n",
        "width = 64\n",
        "\n",
        "volume = torch.zeros([depth, height, width])"
      ],
      "metadata": {
        "id": "kmOdrjPI9zFP"
      },
      "execution_count": 35,
      "outputs": []
    },
    {
      "cell_type": "code",
      "source": [
        "# some examples of surfaces defined implicitly\n",
        "sphere = lambda x: x[0]**2 + x[1]**2 + x[2]**2 - 0.8**2\n",
        "torus = lambda x: (0.6 - torch.sqrt(x[0]**2 + x[1]**2))**2 + x[2]**2 - 0.3**2"
      ],
      "metadata": {
        "id": "2NC9bXw4-KbD"
      },
      "execution_count": 36,
      "outputs": []
    },
    {
      "cell_type": "code",
      "source": [
        "function = sphere\n",
        "for d in range(depth):\n",
        "  for h in range(height):\n",
        "    for w in range(width):\n",
        "      x = (d - depth/2) / (depth/2)\n",
        "      y = (h - height/2) / (height/2)\n",
        "      z = (w - width/2) / (width/2)\n",
        "      point = torch.tensor([x, y, z])\n",
        "      if function(point) <= 0:\n",
        "        volume[d, h, w] = 1.0"
      ],
      "metadata": {
        "id": "KgjmSRxuJOYu"
      },
      "execution_count": 37,
      "outputs": []
    },
    {
      "cell_type": "code",
      "source": [
        "cubified = cubify(volume.unsqueeze(0), 0.7)"
      ],
      "metadata": {
        "id": "DgCZoL3nAvw-"
      },
      "execution_count": 38,
      "outputs": []
    },
    {
      "cell_type": "code",
      "source": [
        "IO().save_mesh(cubified, \"cubified_mesh.obj\")"
      ],
      "metadata": {
        "id": "hjn21bHIDr3w"
      },
      "execution_count": 39,
      "outputs": []
    },
    {
      "cell_type": "markdown",
      "source": [
        "## Challenge\n",
        "\n",
        "3. Can you substitute the ````for```` loops for vectorized operations using Numpy or PyTorch functions?\n",
        "\n",
        "4. Can you make the cubified sphere look \"rounded\"? \n",
        "\n",
        "5. Train a neural network to learn a occupancy function for a 3D surface. Use the ```cubify``` method to generate a mesh, and visualize it."
      ],
      "metadata": {
        "id": "_0bH_lilImFF"
      }
    },
    {
      "cell_type": "code",
      "source": [
        "sphere = lambda x: x[0,:,:,:]*x[0,:,:,:] + x[1,:,:,:]*x[1,:,:,:] + x[2,:,:,:]*x[2,:,:,:]\n",
        "torus = lambda x: torch.pow(1.0 - torch.sqrt(x[0,:,:,:]*x[0,:,:,:] + x[1,:,:,:]*x[1,:,:,:]),2) + x[2,:,:,:]*x[2,:,:,:] \n",
        "\n",
        "range = torch.linspace(-1,1,64)\n",
        "X,Y,Z = torch.meshgrid(range,range,range)\n",
        "points = torch.cat((X.unsqueeze(0),Y.unsqueeze(0),Z.unsqueeze(0)))\n",
        "\n",
        "orbit = sphere(points)\n",
        "mask = orbit < 1\n",
        "volume[mask] = 1.0\n",
        "\n",
        "cubified = cubify(volume.unsqueeze(0), 0.7)\n",
        "IO().save_mesh(cubified, \"cubified_mesh.obj\")\n",
        "\n",
        "#round the sphere\n",
        "vertices = cubified.verts_packed()\n",
        "vnorm = torch.linalg.vector_norm(vertices, dim=-1).unsqueeze(1)\n",
        "verts = vertices / vnorm\n",
        "new_sphere = Meshes([verts], cubified.faces_list())\n",
        "\n",
        "IO().save_mesh(new_sphere, \"new_sphere.obj\")"
      ],
      "metadata": {
        "colab": {
          "base_uri": "https://localhost:8080/"
        },
        "id": "y94S_jTqng3n",
        "outputId": "2f26982c-5037-4824-fb21-1db83affe1b8"
      },
      "execution_count": 40,
      "outputs": [
        {
          "output_type": "stream",
          "name": "stderr",
          "text": [
            "/usr/local/lib/python3.10/dist-packages/torch/functional.py:504: UserWarning: torch.meshgrid: in an upcoming release, it will be required to pass the indexing argument. (Triggered internally at ../aten/src/ATen/native/TensorShape.cpp:3483.)\n",
            "  return _VF.meshgrid(tensors, **kwargs)  # type: ignore[attr-defined]\n"
          ]
        }
      ]
    }
  ]
}